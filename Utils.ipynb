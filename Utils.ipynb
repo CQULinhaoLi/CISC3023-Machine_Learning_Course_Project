{
 "cells": [
  {
   "cell_type": "code",
   "execution_count": 1,
   "id": "9736d9c2-9b17-4776-8142-5b3e5ec057b4",
   "metadata": {},
   "outputs": [],
   "source": [
    "import csv\n",
    "from PIL import Image\n",
    "import numpy as np\n",
    "import matplotlib.pyplot as plt\n",
    "import matplotlib.patches as patches"
   ]
  },
  {
   "cell_type": "code",
   "execution_count": 2,
   "id": "ce331acd-e66f-490e-b0e1-f0d8c3091af1",
   "metadata": {},
   "outputs": [],
   "source": [
    "def readImageData(rootpath):\n",
    "    '''Reads data \n",
    "    Arguments: path to the image, for example './Training'\n",
    "    Returns:   list of images, list of corresponding outputs'''\n",
    "    images = [] # images\n",
    "    output_1 = [] # corresponding x index\n",
    "    output_2 = [] # corresponding y index\n",
    "    output_3 = [] # corresponding x width\n",
    "    output_4 = [] # corresponding y width\n",
    "    \n",
    "    prefix = rootpath + '/' \n",
    "    gtFile = open(prefix + 'myData'+ '.csv') # annotations file\n",
    "    gtReader = csv.reader(gtFile, delimiter=';') # csv parser for annotations file\n",
    "    next(gtReader)\n",
    "    # loop over all images in current annotations file\n",
    "    for row in gtReader:\n",
    "        img=Image.open(prefix + row[0])  # the 1th column is the filename\n",
    "        # preprocesing image, here we resize the image into a smaller one\n",
    "        img=img.resize((128,128), Image.BICUBIC)  \n",
    "        img=np.array(img)\n",
    "        images.append(img) \n",
    "        output_1.append(float(row[1])) # the 8th column is the label\n",
    "        output_2.append(float(row[2]))\n",
    "        output_3.append(float(row[3]))\n",
    "        output_4.append(float(row[4]))\n",
    "    \n",
    "    gtFile.close()\n",
    "    return images, output_1, output_2, output_3, output_4"
   ]
  },
  {
   "cell_type": "code",
   "execution_count": 3,
   "id": "54f7ebed-fd1d-4acd-abf6-536525ee2fee",
   "metadata": {},
   "outputs": [],
   "source": [
    "def display_images(images, rows, cols, titles=None):\n",
    "    \"\"\"\n",
    "    Display a group of images in a grid.\n",
    "    Arguments:\n",
    "        images: List of images (each as a NumPy array).\n",
    "        rows: Number of rows in the grid.\n",
    "        cols: Number of columns in the grid.\n",
    "        titles: Optional list of titles for each image.\n",
    "    \"\"\"\n",
    "    fig, axes = plt.subplots(rows, cols, figsize=(15, 15))\n",
    "    axes = axes.flatten()  # Flatten the grid for easy iteration\n",
    "    for i, ax in enumerate(axes):\n",
    "        if i < len(images):\n",
    "            ax.imshow(images[i], cmap='gray')  # Display the image\n",
    "            ax.axis('off')  # Hide axes\n",
    "            if titles:\n",
    "                ax.set_title(titles[i], fontsize=10)\n",
    "        else:\n",
    "            ax.axis('off')  # Hide extra axes\n",
    "    plt.tight_layout()\n",
    "    plt.show()"
   ]
  },
  {
   "cell_type": "code",
   "execution_count": 4,
   "id": "9a539a43-62ac-4b8f-a86e-c413a451675c",
   "metadata": {},
   "outputs": [],
   "source": [
    "# Function to calculate the error between predicted and ground truth values\n",
    "def calculate_error(pred, gt):\n",
    "    # Calculate the Euclidean distance between predicted and ground truth (x, y, xw, yw)\n",
    "    pred_x, pred_y, pred_xw, pred_yw = pred\n",
    "    gt_x, gt_y, gt_xw, gt_yw = gt\n",
    "    \n",
    "    # Calculate absolute errors for each dimension\n",
    "    error_x = abs(pred_x - gt_x)\n",
    "    error_y = abs(pred_y - gt_y)\n",
    "    error_xw = abs(pred_xw - gt_xw)\n",
    "    error_yw = abs(pred_yw - gt_yw)\n",
    "    \n",
    "    # Sum of absolute errors (you can also use squared error or Euclidean distance)\n",
    "    total_error = error_x + error_y + error_xw + error_yw\n",
    "    return total_error"
   ]
  },
  {
   "cell_type": "code",
   "execution_count": 5,
   "id": "dcb0cf66-66b4-4955-86a2-b834af86dd1c",
   "metadata": {},
   "outputs": [],
   "source": [
    "def draw_rectangle(ax, center_x, center_y, x_width, y_width, color, scale_factor_x, scale_factor_y):\n",
    "    \"\"\"\n",
    "    Draw a rectangle on the image.\n",
    "    Arguments:\n",
    "    - ax: Matplotlib axis object to draw on\n",
    "    - center_x, center_y: Center coordinates of the rectangle\n",
    "    - x_width, y_width: Width and height of the rectangle\n",
    "    - color: Rectangle border color\n",
    "    - scale_factor: Scaling factor for resizing coordinates\n",
    "    \"\"\"\n",
    "    # Scale the coordinates and dimensions\n",
    "    center_x_scaled = center_x * scale_factor_x\n",
    "    center_y_scaled = center_y * scale_factor_y\n",
    "    x_width_scaled = x_width * scale_factor_x\n",
    "    y_width_scaled = y_width * scale_factor_y\n",
    "\n",
    "    # Calculate the top-left corner of the rectangle\n",
    "    top_left_x = center_x_scaled - x_width_scaled / 2\n",
    "    top_left_y = center_y_scaled - y_width_scaled / 2\n",
    "\n",
    "    # Create a rectangle patch\n",
    "    rectangle = patches.Rectangle(\n",
    "        (top_left_x, top_left_y),  # Top-left corner\n",
    "        x_width_scaled,           # Width\n",
    "        y_width_scaled,           # Height\n",
    "        linewidth=2, edgecolor=color, facecolor='none'\n",
    "    )\n",
    "    ax.add_patch(rectangle)"
   ]
  }
 ],
 "metadata": {
  "kernelspec": {
   "display_name": "pytorch",
   "language": "python",
   "name": "pytorch"
  },
  "language_info": {
   "codemirror_mode": {
    "name": "ipython",
    "version": 3
   },
   "file_extension": ".py",
   "mimetype": "text/x-python",
   "name": "python",
   "nbconvert_exporter": "python",
   "pygments_lexer": "ipython3",
   "version": "3.12.7"
  }
 },
 "nbformat": 4,
 "nbformat_minor": 5
}
