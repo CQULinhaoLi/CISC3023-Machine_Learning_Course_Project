{
 "cells": [
  {
   "cell_type": "code",
   "execution_count": 26,
   "id": "2fc376e2-a1e7-4186-8adb-13dbb5c9d5e6",
   "metadata": {},
   "outputs": [],
   "source": [
    "from Utils import *"
   ]
  },
  {
   "cell_type": "code",
   "execution_count": 2,
   "id": "a6803220-991f-450f-9c43-e10e4fe6a152",
   "metadata": {},
   "outputs": [],
   "source": [
    "trainImages, trainOutput_xi, trainOutput_yi, trainOutput_xw, trainOutput_yw = readImageData('Training')\n",
    "testImages, testOutput_xi, testOutput_yi, testOutput_xw, testOutput_yw = readImageData('test')"
   ]
  },
  {
   "cell_type": "code",
   "execution_count": 3,
   "id": "c1506349-70c0-47a7-8b73-9efeb5790ebb",
   "metadata": {},
   "outputs": [
    {
     "name": "stdout",
     "output_type": "stream",
     "text": [
      "Preprocessed train images shape: torch.Size([150, 3, 224, 224])\n",
      "Preprocessed test images shape: torch.Size([40, 3, 224, 224])\n"
     ]
    }
   ],
   "source": [
    "trainImages = preprocess_images(trainImages)\n",
    "testImages = preprocess_images(testImages)\n",
    "\n",
    "print(f\"Preprocessed train images shape: {trainImages.shape}\")\n",
    "print(f\"Preprocessed test images shape: {testImages.shape}\")"
   ]
  },
  {
   "cell_type": "code",
   "execution_count": 4,
   "id": "08b48d04-c1ab-4fc1-9d59-f3ffd5154d04",
   "metadata": {},
   "outputs": [
    {
     "name": "stdout",
     "output_type": "stream",
     "text": [
      "trainLabels shape: torch.Size([150, 4])\n",
      "testLabels shape: torch.Size([40, 4])\n"
     ]
    }
   ],
   "source": [
    "trainLabels = torch.tensor(\n",
    "    list(zip(trainOutput_xi, trainOutput_yi, trainOutput_xw, trainOutput_yw)), dtype=torch.float32\n",
    ")\n",
    "testLabels = torch.tensor(\n",
    "    list(zip(testOutput_xi, testOutput_yi, testOutput_xw, testOutput_yw)), dtype=torch.float32\n",
    ")\n",
    "print(f\"trainLabels shape: {trainLabels.shape}\")\n",
    "print(f\"testLabels shape: {testLabels.shape}\")"
   ]
  },
  {
   "cell_type": "code",
   "execution_count": 5,
   "id": "d0c99032-1f2c-4890-b08c-6bb746e06c5e",
   "metadata": {},
   "outputs": [
    {
     "name": "stdout",
     "output_type": "stream",
     "text": [
      "Batch images shape: torch.Size([16, 3, 224, 224])\n",
      "Batch labels shape: torch.Size([16, 4])\n"
     ]
    }
   ],
   "source": [
    "import torch\n",
    "from torch.utils.data import TensorDataset, DataLoader\n",
    "\n",
    "# 创建 TensorDataset\n",
    "train_dataset = TensorDataset(trainImages, trainLabels)\n",
    "test_dataset = TensorDataset(testImages, testLabels)\n",
    "\n",
    "# 创建 DataLoader\n",
    "batch_size = 16\n",
    "train_loader = DataLoader(train_dataset, batch_size=batch_size, shuffle=True)\n",
    "test_loader = DataLoader(test_dataset, batch_size=batch_size, shuffle=False)\n",
    "\n",
    "# 示例：迭代 DataLoader\n",
    "for images, labels in train_loader:\n",
    "    print(f\"Batch images shape: {images.shape}\")\n",
    "    print(f\"Batch labels shape: {labels.shape}\")\n",
    "    break\n"
   ]
  },
  {
   "cell_type": "code",
   "execution_count": 6,
   "id": "68c508b1-5798-4661-a3b8-5ca3ba8f2bb4",
   "metadata": {
    "scrolled": true
   },
   "outputs": [
    {
     "name": "stdout",
     "output_type": "stream",
     "text": [
      "VGGRegression(\n",
      "  (features): Sequential(\n",
      "    (0): Conv2d(3, 64, kernel_size=(3, 3), stride=(1, 1), padding=(1, 1))\n",
      "    (1): ReLU(inplace=True)\n",
      "    (2): Conv2d(64, 64, kernel_size=(3, 3), stride=(1, 1), padding=(1, 1))\n",
      "    (3): ReLU(inplace=True)\n",
      "    (4): MaxPool2d(kernel_size=2, stride=2, padding=0, dilation=1, ceil_mode=False)\n",
      "    (5): Conv2d(64, 128, kernel_size=(3, 3), stride=(1, 1), padding=(1, 1))\n",
      "    (6): ReLU(inplace=True)\n",
      "    (7): Conv2d(128, 128, kernel_size=(3, 3), stride=(1, 1), padding=(1, 1))\n",
      "    (8): ReLU(inplace=True)\n",
      "    (9): MaxPool2d(kernel_size=2, stride=2, padding=0, dilation=1, ceil_mode=False)\n",
      "    (10): Conv2d(128, 256, kernel_size=(3, 3), stride=(1, 1), padding=(1, 1))\n",
      "    (11): ReLU(inplace=True)\n",
      "    (12): Conv2d(256, 256, kernel_size=(3, 3), stride=(1, 1), padding=(1, 1))\n",
      "    (13): ReLU(inplace=True)\n",
      "    (14): Conv2d(256, 256, kernel_size=(3, 3), stride=(1, 1), padding=(1, 1))\n",
      "    (15): ReLU(inplace=True)\n",
      "    (16): MaxPool2d(kernel_size=2, stride=2, padding=0, dilation=1, ceil_mode=False)\n",
      "    (17): Conv2d(256, 512, kernel_size=(3, 3), stride=(1, 1), padding=(1, 1))\n",
      "    (18): ReLU(inplace=True)\n",
      "    (19): Conv2d(512, 512, kernel_size=(3, 3), stride=(1, 1), padding=(1, 1))\n",
      "    (20): ReLU(inplace=True)\n",
      "    (21): Conv2d(512, 512, kernel_size=(3, 3), stride=(1, 1), padding=(1, 1))\n",
      "    (22): ReLU(inplace=True)\n",
      "    (23): MaxPool2d(kernel_size=2, stride=2, padding=0, dilation=1, ceil_mode=False)\n",
      "    (24): Conv2d(512, 512, kernel_size=(3, 3), stride=(1, 1), padding=(1, 1))\n",
      "    (25): ReLU(inplace=True)\n",
      "    (26): Conv2d(512, 512, kernel_size=(3, 3), stride=(1, 1), padding=(1, 1))\n",
      "    (27): ReLU(inplace=True)\n",
      "    (28): Conv2d(512, 512, kernel_size=(3, 3), stride=(1, 1), padding=(1, 1))\n",
      "    (29): ReLU(inplace=True)\n",
      "    (30): MaxPool2d(kernel_size=2, stride=2, padding=0, dilation=1, ceil_mode=False)\n",
      "  )\n",
      "  (regressor): Sequential(\n",
      "    (0): Linear(in_features=25088, out_features=4096, bias=True)\n",
      "    (1): ReLU(inplace=True)\n",
      "    (2): Dropout(p=0.5, inplace=False)\n",
      "    (3): Linear(in_features=4096, out_features=4096, bias=True)\n",
      "    (4): ReLU(inplace=True)\n",
      "    (5): Dropout(p=0.5, inplace=False)\n",
      "    (6): Linear(in_features=4096, out_features=4, bias=True)\n",
      "  )\n",
      ")\n"
     ]
    }
   ],
   "source": [
    "import torch\n",
    "import torch.nn as nn\n",
    "\n",
    "class VGGRegression(nn.Module):\n",
    "    def __init__(self, config, output_dim=4):\n",
    "        \"\"\"\n",
    "        Initialize the VGG model for regression tasks.\n",
    "        \n",
    "        Args:\n",
    "            config (list): Configuration for convolutional and pooling layers.\n",
    "            output_dim (int): Number of output dimensions. Default is 4 (x, y, x_width, y_width).\n",
    "        \"\"\"\n",
    "        super(VGGRegression, self).__init__()\n",
    "        self.features = self._make_layers(config)\n",
    "        self.regressor = nn.Sequential(\n",
    "            nn.Linear(512 * 7 * 7, 4096),  # Assuming input size is 224x224\n",
    "            nn.ReLU(inplace=True),\n",
    "            nn.Dropout(),\n",
    "            nn.Linear(4096, 4096),\n",
    "            nn.ReLU(inplace=True),\n",
    "            nn.Dropout(),\n",
    "            nn.Linear(4096, output_dim),  # Final output: 4 values for regression\n",
    "        )\n",
    "\n",
    "    def forward(self, x):\n",
    "        x = self.features(x)\n",
    "        x = torch.flatten(x, 1)  # Flatten for the fully connected layer\n",
    "        x = self.regressor(x)\n",
    "        return x\n",
    "\n",
    "    def _make_layers(self, config):\n",
    "        layers = []\n",
    "        in_channels = 3  # RGB input\n",
    "        for layer in config:\n",
    "            if layer == 'M':  # Max pooling\n",
    "                layers += [nn.MaxPool2d(kernel_size=2, stride=2)]\n",
    "            else:  # Convolutional layer\n",
    "                layers += [\n",
    "                    nn.Conv2d(in_channels, layer, kernel_size=3, padding=1),\n",
    "                    nn.ReLU(inplace=True),\n",
    "                ]\n",
    "                in_channels = layer\n",
    "        return nn.Sequential(*layers)\n",
    "\n",
    "# Example: VGG16 configuration\n",
    "vgg16_config = [64, 64, 'M', 128, 128, 'M', 256, 256, 256, 'M', 512, 512, 512, 'M', 512, 512, 512, 'M']\n",
    "\n",
    "# Instantiate the model for regression (output 4 values)\n",
    "vgg_regression = VGGRegression(vgg16_config, output_dim=4)\n",
    "\n",
    "print(vgg_regression)\n"
   ]
  },
  {
   "cell_type": "code",
   "execution_count": 21,
   "id": "03684069-bc67-48c4-87fc-767798beb7d8",
   "metadata": {},
   "outputs": [
    {
     "name": "stdout",
     "output_type": "stream",
     "text": [
      "Epoch [10/120], Loss: 6080.4199\n",
      "Epoch [20/120], Loss: 6408.3467\n",
      "Epoch [30/120], Loss: 6110.1944\n",
      "Epoch [40/120], Loss: 5897.4756\n",
      "Epoch [50/120], Loss: 5921.0057\n",
      "Epoch [60/120], Loss: 8115.7330\n",
      "Epoch [70/120], Loss: 6025.3513\n",
      "Epoch [80/120], Loss: 5235.1402\n",
      "Epoch [90/120], Loss: 5449.8906\n",
      "Epoch [100/120], Loss: 5518.5368\n",
      "Epoch [110/120], Loss: 4940.4995\n",
      "Epoch [120/120], Loss: 5954.0746\n"
     ]
    },
    {
     "data": {
      "image/png": "[encoded data removed]",
      "text/plain": [
       "<Figure size 1000x600 with 1 Axes>"
      ]
     },
     "metadata": {},
     "output_type": "display_data"
    }
   ],
   "source": [
    "import torch\n",
    "import torch.nn as nn\n",
    "import torch.optim as optim\n",
    "import matplotlib.pyplot as plt\n",
    "import joblib\n",
    "import os\n",
    "\n",
    "# Save the Model\n",
    "save_dir = 'Models'\n",
    "\n",
    "# Define device\n",
    "device = torch.device('cuda' if torch.cuda.is_available() else 'cpu')\n",
    "\n",
    "# Move model to device\n",
    "vgg_regression = vgg_regression.to(device)\n",
    "\n",
    "# Define optimizer and loss function\n",
    "optimizer = optim.Adam(vgg_regression.parameters(), lr=1e-4)\n",
    "criterion = nn.MSELoss()  # Mean Squared Error for regression\n",
    "\n",
    "# Training loop\n",
    "num_epochs = 120\n",
    "train_losses = []  # List to store loss values\n",
    "\n",
    "for epoch in range(num_epochs):\n",
    "    vgg_regression.train()\n",
    "    running_loss = 0.0\n",
    "    for images, labels in train_loader:\n",
    "        images, labels = images.to(device), labels.to(device)\n",
    "        optimizer.zero_grad()  # Clear gradients\n",
    "        outputs = vgg_regression(images)  # Forward pass\n",
    "        loss = criterion(outputs, labels)  # Compute loss\n",
    "        loss.backward()  # Backward pass\n",
    "        optimizer.step()  # Update weights\n",
    "        running_loss += loss.item()\n",
    "    \n",
    "    # Calculate average loss for this epoch\n",
    "    avg_loss = running_loss / len(train_loader)\n",
    "    train_losses.append(avg_loss)  # Record loss\n",
    "    \n",
    "    # Print loss every 10 epochs\n",
    "    if (epoch + 1) % 10 == 0:\n",
    "        print(f\"Epoch [{epoch+1}/{num_epochs}], Loss: {avg_loss:.4f}\")\n",
    "    \n",
    "    # Save the model every epoch\n",
    "    if not os.path.exists(save_dir):\n",
    "        os.makedirs(save_dir)\n",
    "    save_path = os.path.join(save_dir, f'vgg_regression_Epoch_{epoch+1}_{num_epochs}_model.pkl')\n",
    "    joblib.dump(vgg_regression, save_path)\n",
    "\n",
    "# Plot loss curve\n",
    "plt.figure(figsize=(10, 6))\n",
    "plt.plot(range(1, num_epochs + 1), train_losses, label='Training Loss')\n",
    "plt.xlabel('Epoch')\n",
    "plt.ylabel('Loss')\n",
    "plt.title('Training Loss Curve')\n",
    "plt.legend()\n",
    "plt.grid(True)\n",
    "plt.show()\n"
   ]
  },
  {
   "cell_type": "code",
   "execution_count": 30,
   "id": "f90415d0-5022-4e16-bf6b-735b45cc2917",
   "metadata": {},
   "outputs": [],
   "source": [
    "import os\n",
    "\n",
    "# Folder where the models are stored\n",
    "model_folder = \"Models\"\n",
    "\n",
    "# List all the model files in the folder\n",
    "model_files = [f for f in os.listdir(model_folder) if f.endswith(\".pkl\")]"
   ]
  },
  {
   "cell_type": "code",
   "execution_count": 32,
   "id": "224198fa-6da1-4a14-977d-836d5f0c0330",
   "metadata": {},
   "outputs": [
    {
     "name": "stdout",
     "output_type": "stream",
     "text": [
      "Best Model: vgg_regression_Epoch_27_120_model.pkl, Lowest Average Loss: 2134.5365\n"
     ]
    }
   ],
   "source": [
    "# Initialize variables to track the best model\n",
    "best_model_file = None\n",
    "best_model_loss = float('inf')  # Start with a very large loss\n",
    "best_model_predictions = None\n",
    "best_model_labels = None\n",
    "\n",
    "# Iterate over each model file\n",
    "for model_file in model_files:\n",
    "    model_path = os.path.join(model_folder, model_file)\n",
    "    \n",
    "    # Load the model\n",
    "    model = joblib.load(model_path)\n",
    "    model = model.to(device)  # Move model to device\n",
    "    model.eval()  # Set model to evaluation mode\n",
    "    \n",
    "    # Initialize metrics for this model\n",
    "    total_loss = 0.0\n",
    "    all_predictions = []\n",
    "    all_labels = []\n",
    "    \n",
    "    with torch.no_grad():  # Disable gradient computation for testing\n",
    "        for images, labels in test_loader:\n",
    "            images, labels = images.to(device), labels.to(device)\n",
    "            \n",
    "            # Forward pass\n",
    "            predictions = model(images)\n",
    "            \n",
    "            # Compute loss\n",
    "            loss = criterion(predictions, labels)\n",
    "            total_loss += loss.item()\n",
    "            \n",
    "            # Store predictions and labels for further analysis\n",
    "            all_predictions.append(predictions.cpu().numpy())\n",
    "            all_labels.append(labels.cpu().numpy())\n",
    "    \n",
    "    # Aggregate results\n",
    "    all_predictions = np.vstack(all_predictions)\n",
    "    all_labels = np.vstack(all_labels)\n",
    "    \n",
    "    # Compute final metrics for this model\n",
    "    average_loss = total_loss / len(test_loader)\n",
    "    # print(f\"Model: {model_file}, Average Loss: {average_loss:.4f}\")\n",
    "    \n",
    "    # Update the best model if this one is better\n",
    "    if average_loss < best_model_loss:\n",
    "        best_model_loss = average_loss\n",
    "        best_model_file = model_file\n",
    "        best_model_predictions = all_predictions\n",
    "        best_model_labels = all_labels\n",
    "\n",
    "# Print the best model information\n",
    "print(f\"Best Model: {best_model_file}, Lowest Average Loss: {best_model_loss:.4f}\")\n",
    "\n",
    "# Optionally: Save the best model predictions and labels for analysis\n",
    "np.save('best_model_predictions.npy', best_model_predictions)\n",
    "np.save('best_model_labels.npy', best_model_labels)"
   ]
  }
 ],
 "metadata": {
  "kernelspec": {
   "display_name": "dplearn",
   "language": "python",
   "name": "dplearn"
  },
  "language_info": {
   "codemirror_mode": {
    "name": "ipython",
    "version": 3
   },
   "file_extension": ".py",
   "mimetype": "text/x-python",
   "name": "python",
   "nbconvert_exporter": "python",
   "pygments_lexer": "ipython3",
   "version": "3.9.20"
  }
 },
 "nbformat": 4,
 "nbformat_minor": 5
}
